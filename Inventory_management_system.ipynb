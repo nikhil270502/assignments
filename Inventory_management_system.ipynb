{
  "nbformat": 4,
  "nbformat_minor": 0,
  "metadata": {
    "colab": {
      "name": "Inventory management system",
      "provenance": [],
      "collapsed_sections": [],
      "authorship_tag": "ABX9TyMULMkudwQxnEK8DK5yuOPN",
      "include_colab_link": true
    },
    "kernelspec": {
      "name": "python3",
      "display_name": "Python 3"
    },
    "language_info": {
      "name": "python"
    }
  },
  "cells": [
    {
      "cell_type": "markdown",
      "metadata": {
        "id": "view-in-github",
        "colab_type": "text"
      },
      "source": [
        "<a href=\"https://colab.research.google.com/github/nikhil270502/assignments/blob/main/Inventory_management_system.ipynb\" target=\"_parent\"><img src=\"https://colab.research.google.com/assets/colab-badge.svg\" alt=\"Open In Colab\"/></a>"
      ]
    },
    {
      "cell_type": "code",
      "metadata": {
        "id": "DSDvCCvip58_"
      },
      "source": [
        "fd = open(\"Records.txt\",\"r\")\n",
        "txt = fd.read()\n",
        "fd.close()"
      ],
      "execution_count": null,
      "outputs": []
    },
    {
      "cell_type": "code",
      "metadata": {
        "id": "0BTSuZ5Wqv7u"
      },
      "source": [
        "products = txt.split(\"\\n\")\n",
        " \n",
        "ui_prod  = str(input(\"Enter the product_Id: \"))\n",
        "ui_quant = input(\"Enter the quantity: \")\n",
        " \n",
        "for product in products:\n",
        "    prod = product.split(\",\")\n",
        "    \n",
        "    \n",
        "    if(prod[0] == ui_prod):\n",
        "        \n",
        "        print(\"Product ID: \", prod[0])\n",
        "        print(\"Name: \", prod[1])\n",
        "        print(\"Price: \",prod[2])\n",
        "        print(\"Quant: \",ui_quant)\n",
        "        print(\"Billing Amout: \", ui_quant * int(prod[2]))"
      ],
      "execution_count": null,
      "outputs": []
    },
    {
      "cell_type": "code",
      "metadata": {
        "id": "hZVJmzv0rqPF"
      },
      "source": [
        "new_record = []\n",
        " \n",
        "for product in products:\n",
        "    prod = product.split(\",\")\n",
        "    if(ui_prod == prod[0]):\n",
        "        prod[3] = str(int(prod[3]) - ui_quant)\n",
        "        \n",
        "    new_record.append(prod[0] + \",\" + prod[1] + \",\" + prod[2] + \",\" + prod[3] + \"\\n\")\n",
        "    \n",
        "new_record[-1] = new_record[-1][:-1]"
      ],
      "execution_count": null,
      "outputs": []
    },
    {
      "cell_type": "code",
      "metadata": {
        "id": "pLG7Ky4WruPS"
      },
      "source": [
        "fd = open(\"Records.txt\", 'w')\n",
        " \n",
        "for i in new_record:\n",
        "    fd.write(i)\n",
        "    \n",
        "fd.close()"
      ],
      "execution_count": null,
      "outputs": []
    }
  ]
}